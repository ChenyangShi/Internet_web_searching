{
 "cells": [
  {
   "cell_type": "code",
   "execution_count": 2,
   "metadata": {
    "scrolled": true
   },
   "outputs": [],
   "source": [
    "import re #正则表达式\n",
    "num = 1\n",
    "while(num <=  500):\n",
    "    f = open('News_' + str(num) + '_Org.txt', 'r')\n",
    "\n",
    "    #把文本中每个单词字符化 \n",
    "    reg = re.compile('\\\\W*')#除了单词外的所有特殊符号包括空格\n",
    "    text = reg.split(f.read())\n",
    "    #print text[0:50]\n",
    "    f.close()\n",
    "\n",
    "    text_lower = [i.lower() for i in text]#单词全部转换成小写\n",
    "    #print text_lower[0:100]\n",
    "    #len(text_lower)\n",
    "\n",
    "    from nltk.corpus import stopwords #nltk中的停用词表\n",
    "    en_stopwords = stopwords.words(\"english\")\n",
    "    text_clear = []\n",
    "    for word in text_lower: #去掉停用词\n",
    "        if word not in en_stopwords:\n",
    "            text_clear.append(word)\n",
    "\n",
    "    #print text_clear[0:50]\n",
    "    #len(text_clear)\n",
    "\n",
    "    #抽取词干\n",
    "    from nltk.stem.porter import PorterStemmer\n",
    "    st = PorterStemmer() #一个对象\n",
    "    text_stem = [st.stem(word) for word in text_clear]\n",
    "    #for i in text_stem:\n",
    "    #    print i\n",
    "\n",
    "    #保存\n",
    "    fp = open('News_' + str(num) + '_E.txt', 'w')\n",
    "    for i in text_stem:\n",
    "        fp.write(i + \" \")\n",
    "\n",
    "    fp.close()\n",
    "    num +=1\n"
   ]
  },
  {
   "cell_type": "code",
   "execution_count": 2,
   "metadata": {
    "scrolled": true
   },
   "outputs": [],
   "source": [
    "import re #正则表达式\n",
    "\n",
    "f = open('.\\doc\\News_3_Org.txt', 'r')\n",
    "\n",
    "#把文本中每个单词字符化 \n",
    "reg = re.compile('\\\\W*')#除了单词外的所有特殊符号包括空格\n",
    "text = reg.split(f.read())\n",
    "#print text[0:50]\n",
    "f.close()\n",
    "\n",
    "text_lower = [i.lower() for i in text]#单词全部转换成小写\n",
    "#print text_lower[0:100]\n",
    "#len(text_lower)\n",
    "\n",
    "from nltk.corpus import stopwords #nltk中的停用词表\n",
    "en_stopwords = stopwords.words(\"english\")\n",
    "text_clear = []\n",
    "for word in text_lower: #去掉停用词\n",
    "    if word not in en_stopwords:\n",
    "        text_clear.append(word)\n",
    "\n",
    "#print text_clear[0:50]\n",
    "#len(text_clear)\n",
    "\n",
    "#抽取词干\n",
    "from nltk.stem.porter import PorterStemmer\n",
    "st = PorterStemmer() #一个对象\n",
    "text_stem = [st.stem(word) for word in text_clear]\n",
    "#for i in text_stem:\n",
    "#    print i\n",
    "\n",
    "#保存\n",
    "fp = open('.\\doc\\News_3_E.txt', 'w')\n",
    "for i in text_stem:\n",
    "    fp.write(i + \" \")\n",
    "\n",
    "fp.close()\n"
   ]
  },
  {
   "cell_type": "code",
   "execution_count": null,
   "metadata": {},
   "outputs": [],
   "source": []
  },
  {
   "cell_type": "code",
   "execution_count": 4,
   "metadata": {},
   "outputs": [
    {
     "data": {
      "text/plain": [
       "1346"
      ]
     },
     "execution_count": 4,
     "metadata": {},
     "output_type": "execute_result"
    }
   ],
   "source": []
  },
  {
   "cell_type": "code",
   "execution_count": 5,
   "metadata": {},
   "outputs": [
    {
     "name": "stdout",
     "output_type": "stream",
     "text": [
      "showing info https://raw.githubusercontent.com/nltk/nltk_data/gh-pages/index.xml\n"
     ]
    },
    {
     "data": {
      "text/plain": [
       "True"
      ]
     },
     "execution_count": 5,
     "metadata": {},
     "output_type": "execute_result"
    }
   ],
   "source": [
    "import nltk\n",
    "nltk.download()"
   ]
  },
  {
   "cell_type": "code",
   "execution_count": null,
   "metadata": {},
   "outputs": [],
   "source": []
  },
  {
   "cell_type": "code",
   "execution_count": null,
   "metadata": {},
   "outputs": [],
   "source": []
  },
  {
   "cell_type": "code",
   "execution_count": null,
   "metadata": {},
   "outputs": [],
   "source": [
    "\n"
   ]
  },
  {
   "cell_type": "code",
   "execution_count": 12,
   "metadata": {},
   "outputs": [],
   "source": []
  },
  {
   "cell_type": "code",
   "execution_count": null,
   "metadata": {},
   "outputs": [],
   "source": []
  }
 ],
 "metadata": {
  "kernelspec": {
   "display_name": "Python 2",
   "language": "python",
   "name": "python2"
  },
  "language_info": {
   "codemirror_mode": {
    "name": "ipython",
    "version": 2
   },
   "file_extension": ".py",
   "mimetype": "text/x-python",
   "name": "python",
   "nbconvert_exporter": "python",
   "pygments_lexer": "ipython2",
   "version": "2.7.14"
  }
 },
 "nbformat": 4,
 "nbformat_minor": 2
}
