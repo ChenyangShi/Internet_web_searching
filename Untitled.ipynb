{
 "cells": [
  {
   "cell_type": "code",
   "execution_count": null,
   "metadata": {},
   "outputs": [],
   "source": [
    "f = open('URL-homepage.txt', 'r').read()\n",
    "print f\n",
    "\n",
    "f.close()"
   ]
  },
  {
   "cell_type": "code",
   "execution_count": null,
   "metadata": {
    "scrolled": true
   },
   "outputs": [],
   "source": [
    "from bs4 import BeautifulSoup\n",
    "import urllib2\n",
    "import warnings\n",
    "warnings.filterwarnings(\"ignore\")\n",
    "\n",
    "import sys\n",
    "reload(sys)\n",
    "sys.setdefaultencoding(\"utf8\")\n",
    "\n",
    "num = 1\n",
    "with open('URL-homepage.txt', 'r') as f:#读取url链接\n",
    "    f.readline()\n",
    "    for line in f:\n",
    "        req = urllib2.Request(line)#request to visit web\n",
    "        page = urllib2.urlopen(req)#open this url\n",
    "        soup = BeautifulSoup(page, 'lxml')#将网页源码构造成BeautifulSoup对象，方便操作\n",
    "        if(soup.body != null ):\n",
    "            text = soup.body #body里的文本\n",
    "        else:\n",
    "            text = soup.head\n",
    "        with open('News_' + str(num) + '_Org.txt', 'w') as f:\n",
    "            f.write(text.get_text())\n",
    "            num += 1\n",
    "            if (num > 251):\n",
    "                break;"
   ]
  },
  {
   "cell_type": "code",
   "execution_count": null,
   "metadata": {},
   "outputs": [],
   "source": []
  }
 ],
 "metadata": {
  "kernelspec": {
   "display_name": "Python 2",
   "language": "python",
   "name": "python2"
  },
  "language_info": {
   "codemirror_mode": {
    "name": "ipython",
    "version": 2
   },
   "file_extension": ".py",
   "mimetype": "text/x-python",
   "name": "python",
   "nbconvert_exporter": "python",
   "pygments_lexer": "ipython2",
   "version": "2.7.14"
  }
 },
 "nbformat": 4,
 "nbformat_minor": 2
}
