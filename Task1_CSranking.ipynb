{
 "cells": [
  {
   "cell_type": "code",
   "execution_count": 1,
   "metadata": {
    "scrolled": true
   },
   "outputs": [
    {
     "name": "stdout",
     "output_type": "stream",
     "text": [
      "http://edithlaw.ca/\n",
      "https://cs.uwaterloo.ca/~dberry/\n",
      "https://uwaterloo.ca/electrical-computer-engineering/people-profiles/arie-gurfinkel\n",
      "http://www.cim.mcgill.ca/~dudek/\n",
      "http://cs.mcgill.ca/~dprecup/\n",
      "http://www.cim.mcgill.ca/~dmeger/\n",
      "http://cs.mcgill.ca/~jcheung/\n",
      "http://www.math.mcgill.ca/vetta/\n",
      "http://www.cs.mcgill.ca/~jeromew/\n",
      "http://www.cs.mcgill.ca/~kry/\n"
     ]
    }
   ],
   "source": [
    "f = open('URL-homepage.txt', 'r').read()\n",
    "print f"
   ]
  },
  {
   "cell_type": "code",
   "execution_count": 2,
   "metadata": {
    "scrolled": false
   },
   "outputs": [],
   "source": [
    "from bs4 import BeautifulSoup\n",
    "import urllib2\n",
    "import warnings\n",
    "warnings.filterwarnings(\"ignore\")\n",
    "import sys\n",
    "reload(sys)\n",
    "sys.setdefaultencoding(\"utf8\")\n",
    "\n",
    "num = 227\n",
    "with open('URL-homepage.txt', 'r') as f:#读取url链接\n",
    "    for line in f:\n",
    "        req = urllib2.Request(line)#request to visit web\n",
    "        page = urllib2.urlopen(req)#open this url\n",
    "        soup = BeautifulSoup(page, 'lxml')#将网页源码构造成BeautifulSoup对象，方便操作\n",
    "        if(soup.body == None):\n",
    "            continue;\n",
    "        text = soup.body #body里的文本  \n",
    "        with open('News_' + str(num) + '_Org.txt', 'w') as fp:\n",
    "            fp.write(text.get_text())\n",
    "            num += 1 "
   ]
  },
  {
   "cell_type": "code",
   "execution_count": null,
   "metadata": {},
   "outputs": [],
   "source": []
  },
  {
   "cell_type": "code",
   "execution_count": null,
   "metadata": {},
   "outputs": [],
   "source": [
    "\n"
   ]
  }
 ],
 "metadata": {
  "kernelspec": {
   "display_name": "Python 2",
   "language": "python",
   "name": "python2"
  },
  "language_info": {
   "codemirror_mode": {
    "name": "ipython",
    "version": 2
   },
   "file_extension": ".py",
   "mimetype": "text/x-python",
   "name": "python",
   "nbconvert_exporter": "python",
   "pygments_lexer": "ipython2",
   "version": "2.7.14"
  }
 },
 "nbformat": 4,
 "nbformat_minor": 2
}
