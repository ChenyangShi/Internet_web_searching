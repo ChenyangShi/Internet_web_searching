{
 "cells": [
  {
   "cell_type": "code",
   "execution_count": 22,
   "metadata": {},
   "outputs": [],
   "source": [
    "import pandas as pd\n",
    "import numpy as np\n",
    "from bs4 import BeautifulSoup\n",
    "import urllib2\n",
    "import warnings\n",
    "warnings.filterwarnings(\"ignore\")\n",
    "\n",
    "web = 'https://www.quora.com/How-do-I-write-the-best-college-application-essay'\n",
    "\n",
    "req = urllib2.Request(web)#request to visit web\n",
    "page = urllib2.urlopen(req)#open this url\n",
    "soup = BeautifulSoup(page, 'lxml')##将网页源码构造成BeautifulSoup对象，方便操作\n",
    "table = soup.find_all(\"div\",{\"class\" : \"pagedlist_item\"})#找到这个标签"
   ]
  },
  {
   "cell_type": "code",
   "execution_count": 23,
   "metadata": {
    "scrolled": true
   },
   "outputs": [
    {
     "data": {
      "text/plain": [
       "['/How-do-you-write-a-good-college-application-essay-What-are-the-qualities-of-a-good-essay',\n",
       " '/How-do-you-write-a-college-application-essay',\n",
       " '/How-do-I-find-a-good-custom-essay-writing-service',\n",
       " '/How-do-I-write-college-essays-faster',\n",
       " '/What-do-you-write-in-your-admission-essay-for-college-How-do-you-apply-early-regular-and-where',\n",
       " '/What-is-the-importance-of-writing-a-college-application-essay',\n",
       " '/What-makes-an-extraordinary-college-application-essay',\n",
       " '/How-do-I-write-a-conclusion-in-college-application-essay',\n",
       " '/How-do-I-write-a-good-application-essay-What-are-some-tips-for-the-best-essay',\n",
       " '/How-do-I-write-a-memorable-college-application-essay',\n",
       " '/How-do-I-write-a-why-us-college-application-essay',\n",
       " '/How-do-I-write-an-essay-3',\n",
       " '/How-do-you-write-college-essays',\n",
       " '/Why-do-some-high-school-students-dread-writing-college-application-essays',\n",
       " '/What-are-the-best-tips-for-college-essays-and-applications',\n",
       " '/How-do-you-write-a-good-college-application-essay-What-are-the-qualities-of-a-good-essay',\n",
       " '/How-do-you-write-a-college-application-essay',\n",
       " '/How-do-I-find-a-good-custom-essay-writing-service',\n",
       " '/How-do-I-write-college-essays-faster',\n",
       " '/What-do-you-write-in-your-admission-essay-for-college-How-do-you-apply-early-regular-and-where',\n",
       " '/What-is-the-importance-of-writing-a-college-application-essay',\n",
       " '/What-makes-an-extraordinary-college-application-essay',\n",
       " '/How-do-I-write-a-conclusion-in-college-application-essay',\n",
       " '/How-do-I-write-a-good-application-essay-What-are-some-tips-for-the-best-essay',\n",
       " '/How-do-I-write-a-memorable-college-application-essay']"
      ]
     },
     "execution_count": 23,
     "metadata": {},
     "output_type": "execute_result"
    }
   ],
   "source": [
    "URLquestion = []\n",
    "for row in soup.find_all(\"li\",{\"class\" : \"related_question\"}):\n",
    "    for a in row.find_all('a', href=True):\n",
    "        URLquestion.append(a['href'])\n",
    "URLquestion"
   ]
  },
  {
   "cell_type": "code",
   "execution_count": 24,
   "metadata": {
    "scrolled": true
   },
   "outputs": [
    {
     "name": "stdout",
     "output_type": "stream",
     "text": [
      "https://www.quora.com/How-do-you-write-a-good-college-application-essay-What-are-the-qualities-of-a-good-essay\n",
      "https://www.quora.com/How-do-you-write-a-college-application-essay\n",
      "https://www.quora.com/How-do-I-find-a-good-custom-essay-writing-service\n",
      "https://www.quora.com/How-do-I-write-college-essays-faster\n",
      "https://www.quora.com/What-do-you-write-in-your-admission-essay-for-college-How-do-you-apply-early-regular-and-where\n",
      "https://www.quora.com/What-is-the-importance-of-writing-a-college-application-essay\n",
      "https://www.quora.com/What-makes-an-extraordinary-college-application-essay\n",
      "https://www.quora.com/How-do-I-write-a-conclusion-in-college-application-essay\n",
      "https://www.quora.com/How-do-I-write-a-good-application-essay-What-are-some-tips-for-the-best-essay\n",
      "https://www.quora.com/How-do-I-write-a-memorable-college-application-essay\n",
      "https://www.quora.com/How-do-I-write-a-why-us-college-application-essay\n",
      "https://www.quora.com/How-do-I-write-an-essay-3\n",
      "https://www.quora.com/How-do-you-write-college-essays\n",
      "https://www.quora.com/Why-do-some-high-school-students-dread-writing-college-application-essays\n",
      "https://www.quora.com/What-are-the-best-tips-for-college-essays-and-applications\n",
      "https://www.quora.com/How-do-you-write-a-good-college-application-essay-What-are-the-qualities-of-a-good-essay\n",
      "https://www.quora.com/How-do-you-write-a-college-application-essay\n",
      "https://www.quora.com/How-do-I-find-a-good-custom-essay-writing-service\n",
      "https://www.quora.com/How-do-I-write-college-essays-faster\n",
      "https://www.quora.com/What-do-you-write-in-your-admission-essay-for-college-How-do-you-apply-early-regular-and-where\n",
      "https://www.quora.com/What-is-the-importance-of-writing-a-college-application-essay\n",
      "https://www.quora.com/What-makes-an-extraordinary-college-application-essay\n",
      "https://www.quora.com/How-do-I-write-a-conclusion-in-college-application-essay\n",
      "https://www.quora.com/How-do-I-write-a-good-application-essay-What-are-some-tips-for-the-best-essay\n",
      "https://www.quora.com/How-do-I-write-a-memorable-college-application-essay\n"
     ]
    }
   ],
   "source": [
    "#加上完整的url链接\n",
    "URLfull = []\n",
    "for i in URLquestion:\n",
    "    URLfull.append('https://www.quora.com' + i)\n",
    "for i in URLfull:\n",
    "    print i"
   ]
  },
  {
   "cell_type": "code",
   "execution_count": null,
   "metadata": {},
   "outputs": [],
   "source": [
    "for url in URLfull:\n",
    "    req = urllib2.Request(url)#request to visit web\n",
    "    page = urllib2.urlopen(req)#open this url\n",
    "    soup = BeautifulSoup(page, 'lxml')\n",
    "    table2 = soup.find_all(\"div\",{\"class\" : \"pagedlist_item\"})\n",
    "    for t in table2:\n",
    "        table.append(t)"
   ]
  },
  {
   "cell_type": "code",
   "execution_count": 65,
   "metadata": {},
   "outputs": [
    {
     "data": {
      "text/plain": [
       "23"
      ]
     },
     "execution_count": 65,
     "metadata": {},
     "output_type": "execute_result"
    }
   ],
   "source": [
    "req = urllib2.Request(URLfull[19])#request to visit web\n",
    "page = urllib2.urlopen(req)#open this url\n",
    "soup = BeautifulSoup(page, 'lxml')\n",
    "table2 = soup.find_all(\"div\",{\"class\" : \"pagedlist_item\"})\n",
    "len(table2)"
   ]
  },
  {
   "cell_type": "code",
   "execution_count": 66,
   "metadata": {},
   "outputs": [],
   "source": [
    "for t in table2:\n",
    "    table.append(t)"
   ]
  },
  {
   "cell_type": "code",
   "execution_count": 26,
   "metadata": {},
   "outputs": [
    {
     "data": {
      "text/plain": [
       "22"
      ]
     },
     "execution_count": 26,
     "metadata": {},
     "output_type": "execute_result"
    }
   ],
   "source": [
    "len(table)"
   ]
  },
  {
   "cell_type": "code",
   "execution_count": 29,
   "metadata": {
    "scrolled": true
   },
   "outputs": [
    {
     "name": "stdout",
     "output_type": "stream",
     "text": [
      "  Ryan Nelson, Writer at GradLimeAnswered Dec 6, 2017 · Author has 53 answers and 47.3k answer viewsA good college application essay does two things:Clearly addresses the prompt.Showcases something unique or interesting about you (usually through a story).It’s like putting a face to your name. The whole point of college application essays is to show the admissions office something they can’t learn about you from test scores and data.Here are some tips to help you write a strong essay:Brainstorming: Think of several ways to address the prompt.Your first idea isn’t always going to be the best. So don’t get invested in a direction until you map out your options.Almost all prompts offer some opportunities to talk about yourself or share a story. Taking the time to think of several examples helps you decide which one is most relevant, which one you have the most to say about, and which reveals the most interesting thing about you.It’s totally OK to ask friends and family to help you think of experiences you’ve had that address the prompt. Once you have a list of ideas, talk through them with someone who knows you well to decide on the best one.Outlining: Get off the fence!Your essay is going to be a lot more interesting if you actually take a stance on something. Especially if the essay poses a question you aren’t passionate about (like a twist on the apples and oranges question—which is better?), it’s easy to find yourself explaining the merits of both perspectives or hanging out in the middle ground. That’s boring. Pretend like you care. Pick a side! Colleges want to see you advocate for one position and pick apart the flaws in an opposing argument. It’s hard to do that when you don’t commit to either side.Writing: Write how you talk.It’s easy to feel like you have to “sound smarter” because you’re applying to college. But that almost always leads to stilted prose that don’t sound like you, and don’t clearly communicate what you’re really trying to say. It’s like wearing a tuxedo to a birthday party.Writing how you talk lets your voice come through strong, and your friends and family can always tell you if you start to sound too informal.Editing: Think about something else for awhileThe worst time to start editing your essay is right after you’ve finished writing it. You just tried to formulate your best thoughts. You banged your head against the desk to find the right way to word that sentence. When you start reading your essay right after writing it, you’re naturally going to overlook even some of your most glaring mistakes.That’s normal. And it’s why you need to do something else.Seriously. You could:Play a video game.Read a book.Go to a movie.Hang out with friends.Binge watch the new season of Stranger Things.Go on a walk.Work out.Sleep.Write another college essay.Literally do anything else.If you feel comfortable waiting a few days to revise your essay, that’s even better. The idea is that you take enough time focusing on other things that you can look at your essay with fresh eyes. Ideally, you’d be able to read it as if someone else wrote it. That way you won’t just catch glaring mistakes—you’ll find better ways to communicate your point, and maybe even better points to make.Those are just a few of my best tips for writing a strong college application.1.4k Views · View Upvoters · Answer requested by  Laura Kranz\n"
     ]
    }
   ],
   "source": [
    "print table[0].get_text()"
   ]
  },
  {
   "cell_type": "code",
   "execution_count": null,
   "metadata": {},
   "outputs": [],
   "source": [
    "len(table[10]) == 0"
   ]
  },
  {
   "cell_type": "code",
   "execution_count": null,
   "metadata": {},
   "outputs": [],
   "source": []
  },
  {
   "cell_type": "code",
   "execution_count": 69,
   "metadata": {},
   "outputs": [],
   "source": [
    "import sys\n",
    "reload(sys)\n",
    "sys.setdefaultencoding(\"utf8\")\n",
    "num = 237\n",
    "for content in table:\n",
    "    if(len(content) == 0):\n",
    "        continue;\n",
    "    with open('News_' + str(num) + '_Org.txt', 'w') as f:\n",
    "        f.write(content.get_text())\n",
    "    num += 1\n",
    "    if (num > 500):\n",
    "        break;"
   ]
  },
  {
   "cell_type": "code",
   "execution_count": null,
   "metadata": {},
   "outputs": [],
   "source": []
  }
 ],
 "metadata": {
  "kernelspec": {
   "display_name": "Python 2",
   "language": "python",
   "name": "python2"
  },
  "language_info": {
   "codemirror_mode": {
    "name": "ipython",
    "version": 2
   },
   "file_extension": ".py",
   "mimetype": "text/x-python",
   "name": "python",
   "nbconvert_exporter": "python",
   "pygments_lexer": "ipython2",
   "version": "2.7.14"
  }
 },
 "nbformat": 4,
 "nbformat_minor": 2
}
