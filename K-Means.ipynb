{
 "cells": [
  {
   "cell_type": "code",
   "execution_count": 1,
   "metadata": {
    "scrolled": true
   },
   "outputs": [
    {
     "name": "stdout",
     "output_type": "stream",
     "text": [
      " alex robert australiaansw oct 24 2017 author 181 answer 17 2k answer viewsani type custom essay write helpacadem life often hectic difficult despit daili effort keep class daili assign student fail catch cours progress student might fault lag sheer pressur complex routin make difficult student catch cours feel struck assign problem need custom essay write help servic one stop solut problem queri regard essay write custom essay write definit regard hire expert take care essay design conclus therefor social activ fun assign take care essay submiss 291 view view upvot \n"
     ]
    }
   ],
   "source": [
    "''''' \n",
    "sklearn里面的TF-IDF主要用到了两个函数：CountVectorizer()和TfidfTransformer()。 \n",
    "    CountVectorizer是通过fit_transform函数将文本中的词语转换为词频矩阵。 \n",
    "    矩阵元素weight[i][j] 表示j词在第i个文本下的词频，即各个词语出现的次数。 \n",
    "    通过get_feature_names()可看到所有文本的关键字，通过toarray()可看到词频矩阵的结果。 \n",
    "    TfidfTransformer也有个fit_transform函数，它的作用是计算tf-idf值。 \n",
    "'''\n",
    "import time       \n",
    "import re          \n",
    "import os    \n",
    "import sys\n",
    "import codecs\n",
    "import shutil\n",
    "import numpy as np\n",
    "from sklearn import feature_extraction\n",
    "from sklearn.feature_extraction.text import TfidfVectorizer   \n",
    "from sklearn.feature_extraction.text import CountVectorizer \n",
    "from sklearn.feature_extraction.text import TfidfTransformer \n",
    "\n",
    "#将文本中的词语转换为词频矩阵 矩阵元素a[i][j] 表示j词在i类文本下的词频  \n",
    "vectorizer = CountVectorizer()\n",
    "\n",
    "#该类会统计每个词语的tf-idf权值\n",
    "transformer = TfidfTransformer() \n",
    "#直接用正则表达式切分，若用tokenize会出现byte字符，无法用utf8 decode\n",
    "#from nltk.tokenize import word_tokenize\n",
    "\n",
    "A = [] #一个elm为一个文档的list\n",
    "\n",
    "num = 1\n",
    "while(num<501):\n",
    "    f1 = open('./doc/' + \"News_\"  + str(num) + \"_E.txt\", 'r').read()\n",
    "    reg = re.compile('\\\\W*')#除了单词外的所有特殊符号包括空格\n",
    "    text = reg.split(f1)\n",
    "    B = \" \".join(text)\n",
    "    #type(B)\n",
    "    A.append(B)\n",
    "    num += 1\n",
    "    \n",
    "print A[499]"
   ]
  },
  {
   "cell_type": "code",
   "execution_count": 2,
   "metadata": {},
   "outputs": [
    {
     "name": "stdout",
     "output_type": "stream",
     "text": [
      "500\n"
     ]
    }
   ],
   "source": [
    "print len(A)"
   ]
  },
  {
   "cell_type": "code",
   "execution_count": null,
   "metadata": {
    "scrolled": true
   },
   "outputs": [],
   "source": []
  },
  {
   "cell_type": "code",
   "execution_count": 3,
   "metadata": {
    "scrolled": true
   },
   "outputs": [
    {
     "data": {
      "text/plain": [
       "array([[ 0.,  0.,  0., ...,  0.,  0.,  0.],\n",
       "       [ 0.,  0.,  0., ...,  0.,  0.,  0.],\n",
       "       [ 0.,  0.,  0., ...,  0.,  0.,  0.],\n",
       "       ..., \n",
       "       [ 0.,  0.,  0., ...,  0.,  0.,  0.],\n",
       "       [ 0.,  0.,  0., ...,  0.,  0.,  0.],\n",
       "       [ 0.,  0.,  0., ...,  0.,  0.,  0.]])"
      ]
     },
     "execution_count": 3,
     "metadata": {},
     "output_type": "execute_result"
    }
   ],
   "source": [
    "#第一个fit_transform是计算tf-idf 第二个fit_transform是将文本转为词频矩阵  \n",
    "tfidf = transformer.fit_transform(vectorizer.fit_transform(A)).toarray()\n",
    "tfidf\n",
    "#将tf-idf矩阵抽取出来，元素w[i][j]表示j词在i类文本中的tf-idf权重  "
   ]
  },
  {
   "cell_type": "code",
   "execution_count": 7,
   "metadata": {
    "scrolled": true
   },
   "outputs": [],
   "source": [
    "resName = \"Tfidf_Result.txt\"  \n",
    "result = codecs.open(resName, 'w', 'utf-8')\n",
    "#打印每类文本的tf-idf词语权重，第一个for遍历所有文本，第二个for便利某一类文本下的词语权重    \n",
    "for i in range(len(tfidf)):  \n",
    "    result.write(u\"-------这里输出第\" + str(i) + u\"类文本的词语tf-idf权重------\") \n",
    "    for j in range(len(tfidf[i])):  \n",
    "        result.write(str(tfidf[i][j]) + ' ')  \n",
    "    result.write('\\r\\n\\r\\n')\n",
    "    \n",
    "result.close()"
   ]
  },
  {
   "cell_type": "code",
   "execution_count": 4,
   "metadata": {},
   "outputs": [
    {
     "data": {
      "text/plain": [
       "array([[-0.08725465, -0.11853788, -0.05542822, ..., -0.04476615,\n",
       "        -0.04476615, -0.04476615],\n",
       "       [-0.08725465, -0.11853788, -0.05542822, ..., -0.04476615,\n",
       "        -0.04476615, -0.04476615],\n",
       "       [-0.08725465, -0.11853788, -0.05542822, ..., -0.04476615,\n",
       "        -0.04476615, -0.04476615],\n",
       "       ..., \n",
       "       [-0.08725465, -0.11853788, -0.05542822, ..., -0.04476615,\n",
       "        -0.04476615, -0.04476615],\n",
       "       [-0.08725465, -0.11853788, -0.05542822, ..., -0.04476615,\n",
       "        -0.04476615, -0.04476615],\n",
       "       [-0.08725465, -0.11853788, -0.05542822, ..., -0.04476615,\n",
       "        -0.04476615, -0.04476615]])"
      ]
     },
     "execution_count": 4,
     "metadata": {},
     "output_type": "execute_result"
    }
   ],
   "source": [
    "# rescale the data: mean 0, std:1\n",
    "from sklearn.preprocessing import StandardScaler\n",
    "scaler = StandardScaler()\n",
    "scaler.fit(tfidf)\n",
    "scaled_df = scaler.transform(tfidf)\n",
    "scaled_df"
   ]
  },
  {
   "cell_type": "code",
   "execution_count": 23,
   "metadata": {},
   "outputs": [
    {
     "data": {
      "text/plain": [
       "163397"
      ]
     },
     "execution_count": 23,
     "metadata": {},
     "output_type": "execute_result"
    }
   ],
   "source": [
    "len(scaled_df[0])"
   ]
  },
  {
   "cell_type": "code",
   "execution_count": 5,
   "metadata": {},
   "outputs": [],
   "source": [
    "from sklearn.cluster import KMeans"
   ]
  },
  {
   "cell_type": "code",
   "execution_count": 48,
   "metadata": {},
   "outputs": [
    {
     "data": {
      "text/plain": [
       "KMeans(algorithm='auto', copy_x=True, init='k-means++', max_iter=300,\n",
       "    n_clusters=2, n_init=10, n_jobs=1, precompute_distances='auto',\n",
       "    random_state=None, tol=0.0001, verbose=0)"
      ]
     },
     "execution_count": 48,
     "metadata": {},
     "output_type": "execute_result"
    }
   ],
   "source": [
    "kmeans = KMeans()\n",
    "kmeans.set_params(n_clusters = 2)\n",
    "kmeans.fit(scaled_df)"
   ]
  },
  {
   "cell_type": "code",
   "execution_count": 58,
   "metadata": {
    "scrolled": true
   },
   "outputs": [
    {
     "data": {
      "text/plain": [
       "array([0, 0, 0, 0, 0, 0, 0, 0, 0, 0, 0, 0, 0, 0, 0, 0, 0, 0, 0, 0, 0, 0, 0,\n",
       "       0, 0, 0, 0, 0, 0, 0, 0, 0, 0, 0, 0, 0, 0, 0, 0, 0, 0, 0, 0, 0, 0, 0,\n",
       "       0, 0, 0, 0, 0, 0, 0, 0, 0, 0, 0, 1, 0, 0, 0, 0, 0, 0, 0, 0, 0, 0, 0,\n",
       "       0, 0, 0, 0, 0, 0, 0, 0, 0, 0, 0, 0, 0, 0, 0, 0, 0, 0, 0, 0, 0, 0, 0,\n",
       "       0, 0, 0, 0, 0, 0, 0, 0, 0, 0, 0, 0, 0, 0, 0, 0, 0, 0, 0, 0, 0, 0, 0,\n",
       "       0, 0, 0, 0, 0, 0, 0, 0, 0, 0, 0, 0, 0, 0, 0, 0, 0, 0, 0, 0, 0, 0, 0,\n",
       "       0, 0, 0, 0, 0, 0, 0, 0, 0, 0, 0, 0, 0, 0, 0, 0, 0, 0, 0, 0, 0, 0, 0,\n",
       "       0, 0, 0, 0, 0, 0, 0, 0, 0, 0, 0, 0, 0, 0, 0, 0, 0, 0, 0, 0, 0, 0, 0,\n",
       "       0, 0, 0, 0, 0, 0, 0, 0, 0, 0, 0, 0, 0, 0, 0, 0, 0, 0, 0, 0, 0, 0, 0,\n",
       "       0, 0, 0, 0, 0, 0, 0, 0, 0, 0, 0, 0, 0, 0, 0, 0, 0, 0, 0, 0, 0, 0, 0,\n",
       "       0, 0, 0, 0, 0, 0, 0, 0, 0, 0, 0, 0, 0, 0, 0, 0, 0, 0, 0, 0, 0, 0, 0,\n",
       "       0, 0, 0, 0, 0, 0, 0, 0, 0, 0, 0, 0, 0, 0, 0, 0, 0, 0, 0, 0, 0, 0, 0,\n",
       "       0, 0, 0, 0, 0, 0, 0, 0, 0, 0, 0, 0, 0, 0, 0, 0, 0, 0, 0, 0, 0, 0, 0,\n",
       "       0, 0, 0, 0, 0, 0, 0, 0, 0, 0, 0, 0, 0, 0, 0, 0, 0, 0, 0, 0, 0, 0, 0,\n",
       "       0, 0, 0, 0, 0, 0, 0, 0, 0, 0, 0, 0, 0, 0, 0, 0, 0, 0, 0, 0, 0, 0, 0,\n",
       "       0, 0, 0, 0, 0, 0, 0, 0, 0, 0, 0, 0, 0, 0, 0, 0, 0, 0, 0, 0, 0, 0, 0,\n",
       "       0, 0, 0, 0, 0, 0, 0, 0, 0, 0, 0, 0, 0, 0, 0, 0, 0, 0, 0, 0, 0, 0, 0,\n",
       "       0, 0, 0, 0, 0, 0, 0, 0, 0, 0, 0, 0, 0, 0, 0, 0, 0, 0, 0, 0, 0, 0, 0,\n",
       "       0, 0, 0, 0, 0, 0, 0, 0, 0, 0, 0, 0, 0, 0, 0, 0, 0, 0, 0, 0, 0, 0, 0,\n",
       "       0, 0, 0, 0, 0, 0, 0, 0, 0, 0, 0, 0, 0, 0, 0, 0, 0, 0, 0, 0, 0, 0, 0,\n",
       "       0, 0, 0, 0, 0, 0, 0, 0, 0, 0, 0, 0, 0, 0, 0, 0, 0, 0, 0, 0, 0, 0, 0,\n",
       "       0, 0, 0, 0, 0, 0, 0, 0, 0, 0, 0, 0, 0, 0, 0, 0, 0])"
      ]
     },
     "execution_count": 58,
     "metadata": {},
     "output_type": "execute_result"
    }
   ],
   "source": [
    "kmeans.labels_"
   ]
  },
  {
   "cell_type": "code",
   "execution_count": 59,
   "metadata": {},
   "outputs": [
    {
     "data": {
      "text/plain": [
       "array([[  1.30382743e-04,   1.42264447e-05,  -1.22981239e-02, ...,\n",
       "         -4.47661481e-02,  -4.47661481e-02,  -4.47661481e-02],\n",
       "       [ -6.50609888e-02,  -7.09899589e-03,   6.13676381e+00, ...,\n",
       "          2.23383079e+01,   2.23383079e+01,   2.23383079e+01]])"
      ]
     },
     "execution_count": 59,
     "metadata": {},
     "output_type": "execute_result"
    }
   ],
   "source": [
    "kmeans.cluster_centers_"
   ]
  },
  {
   "cell_type": "code",
   "execution_count": 50,
   "metadata": {},
   "outputs": [
    {
     "data": {
      "text/plain": [
       "{0: 499, 1: 1}"
      ]
     },
     "execution_count": 50,
     "metadata": {},
     "output_type": "execute_result"
    }
   ],
   "source": [
    "mylist1 = list(label)\n",
    "myset1  = set(mylist1)\n",
    "dict1 = {}\n",
    "for item in myset1:\n",
    "    dict1.update({item : mylist1.count(item)})\n",
    "dict1"
   ]
  },
  {
   "cell_type": "code",
   "execution_count": 6,
   "metadata": {
    "scrolled": true
   },
   "outputs": [
    {
     "data": {
      "image/png": "[encoded data removed]",
      "text/plain": [
       "<matplotlib.figure.Figure at 0xa836630>"
      ]
     },
     "metadata": {},
     "output_type": "display_data"
    }
   ],
   "source": [
    "#Determine optimal k\n",
    "from sklearn.cluster import KMeans\n",
    "from sklearn import metrics\n",
    "from scipy.spatial.distance import cdist\n",
    "import matplotlib.pyplot as plt\n",
    "\n",
    "# k means determine k\n",
    "distortions = []\n",
    "K = range(1,20)\n",
    "for k in K:\n",
    "    kmeanModel = KMeans(n_clusters = k).fit(scaled_df)\n",
    "    kmeanModel.fit(scaled_df)\n",
    "    distortions.append(sum(np.min(cdist(scaled_df, kmeanModel.cluster_centers_, 'euclidean'), axis=1)) / scaled_df.shape[0])\n",
    "\n",
    "# plot the elbow graph\n",
    "plt.plot(K, distortions, 'bx-')\n",
    "plt.xlabel('k')\n",
    "plt.ylabel('Distortion')\n",
    "plt.title('The Elbow Method showing the optimal k')\n",
    "plt.show()"
   ]
  },
  {
   "cell_type": "code",
   "execution_count": 7,
   "metadata": {},
   "outputs": [
    {
     "data": {
      "text/plain": [
       "19"
      ]
     },
     "execution_count": 7,
     "metadata": {},
     "output_type": "execute_result"
    }
   ],
   "source": [
    "len(distortions)"
   ]
  },
  {
   "cell_type": "code",
   "execution_count": 19,
   "metadata": {
    "scrolled": false
   },
   "outputs": [
    {
     "data": {
      "text/plain": [
       "[0.1277202963026785,\n",
       " 0.01214960398302679,\n",
       " 0.0019203939844369808,\n",
       " 0.0079838923893973835,\n",
       " 0.0064745420727654549,\n",
       " 0.0034902068436427243,\n",
       " 0.0070668645507791271,\n",
       " 0.0096578494186362728,\n",
       " 0.0020076727061749148,\n",
       " 0.0074998226591994786,\n",
       " 0.0023994967461628026,\n",
       " 0.0072417936428425386,\n",
       " 0.0072935816169752881,\n",
       " 0.0070651118469353142,\n",
       " 0.008605945790715247,\n",
       " 6.1556549070836383e-05,\n",
       " 0.0031488206174422606,\n",
       " 0.0091272611481743107]"
      ]
     },
     "execution_count": 19,
     "metadata": {},
     "output_type": "execute_result"
    }
   ],
   "source": [
    "import numpy as np\n",
    "np.set_printoptions(suppress=True) #不用科学计数法\n",
    "\n",
    "L1=distortions[0:len(distortions)-1]\n",
    "L2=distortions[1:len(distortions)]\n",
    "ret = map(lambda x, y: (x-y)/x  , L1, L2)\n",
    "ret"
   ]
  },
  {
   "cell_type": "code",
   "execution_count": 36,
   "metadata": {
    "scrolled": true
   },
   "outputs": [
    {
     "name": "stdout",
     "output_type": "stream",
     "text": [
      "[ 0  0  0  0  0  0  0 14  0  0  0  0  0  0  0  4  7  0  0  0 13  6  0  0  0\n",
      "  0  0  0  0  0  0  0  0  0  0 10  0  0  0  0  0  0  0  0  0  0  0  0  0  0\n",
      "  0  0  0  0  0  0  0  1  0  0  0  0  0  0  0  0  0  0  0  0  0  0  8  0  0\n",
      "  0  0  9  0  0  0  0  0  0  0  0  0  0  0  0  0  0  0  0  0  0  0  0  0  0\n",
      "  0  0  0  0  0  0  0  2  0  0  0  0  0  0  0  0  0  0  0  0  0  0  0 11 12\n",
      "  0  0  0  0  0  0  0  0  0  0  0  0  0  5  0  0  0  0  0  0  0  0  0  0  0\n",
      "  0  0  0  0  0  0  0  0  0  0  0  0  0  0  0  0  0  0  0  0  0  0  0  0  0\n",
      "  0  0  0  0  0  0  0  0  0  0  0  0  0  0  0  0  0  0  0  0  0  0  0  0  0\n",
      "  0  0  0  0  0  0  0  0  0  0  0  0  0  0  0  0  0  0  0  0  0  0  0  0  0\n",
      "  0  0  0  0  0  0  0  0  0  0  3  0  0  0  0  0  0  0  0  0  0  0  0  0  0\n",
      "  0  0  0  0  0  0  0  0  0  0  0  0  0  0  0  0  0  0  0  0  0  0  0  0  0\n",
      "  0  0  0  0  0  0  0  0  0  0  0  0  0  0  0  0  0  0  0  0  0  0  0  0  0\n",
      "  0  0  0  0  0  0  0  0  0  0  0  0  0  0  0  0  0  0  0  0  0  0  0  0  0\n",
      "  0  0  0  0  0  0  0  0  0  0  0  0  0  0  0  0  0  0  0  0  0  0  0  0  0\n",
      "  0  0  0  0  0  0  0  0  0  0  0 15  0  0  0  0  0  0  0  0  0  0  0  0  0\n",
      "  0  0  0  0  0  0  0  0  0  0  0  0  0  0  0  0  0  0  0  0  0  0  0  0  0\n",
      "  0  0  0  0  0  0  0  0  0  0  0  0  0  0  0  0  0  0  0  0  0  0  0  0  0\n",
      "  0  0  0  0  0  0  0  0  0  0  0  0  0  0  0  0  0  0  0  0  0  0  0  0  0\n",
      "  0  0  0  0  0  0  0  0  0  0  0  0  0  0  0  0  0  0  0  0  0  0  0  0  0\n",
      "  0  0  0  0  0  0  0  0  0  0  0  0  0  0  0  0  0  0  0  0  0  0  0  0  0]\n"
     ]
    }
   ],
   "source": [
    "kmeans2 = KMeans()\n",
    "kmeans2.set_params(n_clusters = 16)\n",
    "kmeans2.fit(scaled_df)\n",
    "label2 = kmeans2.labels_\n",
    "print label2"
   ]
  },
  {
   "cell_type": "code",
   "execution_count": null,
   "metadata": {
    "scrolled": true
   },
   "outputs": [],
   "source": []
  },
  {
   "cell_type": "code",
   "execution_count": 7,
   "metadata": {},
   "outputs": [
    {
     "data": {
      "text/plain": [
       "numpy.int32"
      ]
     },
     "execution_count": 7,
     "metadata": {},
     "output_type": "execute_result"
    }
   ],
   "source": [
    "type(label2[0])"
   ]
  },
  {
   "cell_type": "code",
   "execution_count": 37,
   "metadata": {},
   "outputs": [
    {
     "name": "stdout",
     "output_type": "stream",
     "text": [
      "[[  3.41099372e-05   1.70416309e-03  -1.10531315e-02 ...,  -4.47661481e-02\n",
      "   -4.47661481e-02  -4.47661481e-02]\n",
      " [ -6.50609888e-02  -7.09899589e-03   6.13676381e+00 ...,   2.23383079e+01\n",
      "    2.23383079e+01   2.23383079e+01]\n",
      " [ -8.72546481e-02  -1.18537877e-01  -5.54282176e-02 ...,  -4.47661481e-02\n",
      "   -4.47661481e-02  -4.47661481e-02]\n",
      " ..., \n",
      " [ -8.72546481e-02  -1.18537877e-01  -5.54282176e-02 ...,  -4.47661481e-02\n",
      "   -4.47661481e-02  -4.47661481e-02]\n",
      " [ -8.72546481e-02  -1.18537877e-01  -5.54282176e-02 ...,  -4.47661481e-02\n",
      "   -4.47661481e-02  -4.47661481e-02]\n",
      " [ -8.72546481e-02  -1.18537877e-01  -5.54282176e-02 ...,  -4.47661481e-02\n",
      "   -4.47661481e-02  -4.47661481e-02]]\n"
     ]
    }
   ],
   "source": [
    "center = kmeans2.cluster_centers_\n",
    "print center"
   ]
  },
  {
   "cell_type": "code",
   "execution_count": 25,
   "metadata": {},
   "outputs": [
    {
     "data": {
      "text/plain": [
       "[0, 1, 2, 3, 4, 5, 6, 7, 8, 9, 10, 11, 12, 13, 14, 15]"
      ]
     },
     "execution_count": 25,
     "metadata": {},
     "output_type": "execute_result"
    }
   ],
   "source": [
    "test_co = [a for a in range(16)]\n",
    "test_co"
   ]
  },
  {
   "cell_type": "code",
   "execution_count": 108,
   "metadata": {
    "scrolled": true
   },
   "outputs": [
    {
     "data": {
      "image/png": "[encoded data removed]",
      "text/plain": [
       "<matplotlib.figure.Figure at 0x106a1cf8>"
      ]
     },
     "metadata": {},
     "output_type": "display_data"
    }
   ],
   "source": [
    "import matplotlib.pyplot as plt\n",
    "plt.figure(figsize=(12,8))\n",
    "plt.scatter(scaled_df[:, 0], scaled_df[:, 1], c = kmeans2.labels_, alpha=0.6, s = 50)\n",
    "#plt.scatter(kmeans.cluster_centers_[:, 1], kmeans.cluster_centers_[:, 3], marker = \"+\", s = 1000, c = [i for i in range(2)])\n",
    "plt.xlabel('Petal Length')\n",
    "plt.ylabel('Petal Width')\n",
    "plt.show()"
   ]
  },
  {
   "cell_type": "code",
   "execution_count": 9,
   "metadata": {
    "scrolled": false
   },
   "outputs": [
    {
     "data": {
      "text/plain": [
       "{0: 2,\n",
       " 1: 1,\n",
       " 2: 484,\n",
       " 3: 1,\n",
       " 4: 1,\n",
       " 5: 1,\n",
       " 6: 1,\n",
       " 7: 1,\n",
       " 8: 1,\n",
       " 9: 1,\n",
       " 10: 1,\n",
       " 11: 1,\n",
       " 12: 1,\n",
       " 13: 1,\n",
       " 14: 1,\n",
       " 15: 1}"
      ]
     },
     "execution_count": 9,
     "metadata": {},
     "output_type": "execute_result"
    }
   ],
   "source": [
    "mylist = list(label2)\n",
    "myset  = set(mylist)\n",
    "dict = {}\n",
    "for item in myset:\n",
    "    dict.update({item : mylist.count(item)})\n",
    "dict"
   ]
  },
  {
   "cell_type": "code",
   "execution_count": 22,
   "metadata": {},
   "outputs": [
    {
     "name": "stdout",
     "output_type": "stream",
     "text": [
      "8936256.67816\n"
     ]
    }
   ],
   "source": [
    "print kmeans2.inertia_"
   ]
  },
  {
   "cell_type": "code",
   "execution_count": 39,
   "metadata": {
    "scrolled": true
   },
   "outputs": [
    {
     "data": {
      "text/plain": [
       "(array([  0,   1,   2,   3,   4,   5,   6,   8,   9,  10,  11,  12,  13,\n",
       "         14,  17,  18,  19,  22,  23,  24,  25,  26,  27,  28,  29,  30,\n",
       "         31,  32,  33,  34,  36,  37,  38,  39,  40,  41,  42,  43,  44,\n",
       "         45,  46,  47,  48,  49,  50,  51,  52,  53,  54,  55,  56,  58,\n",
       "         59,  60,  61,  62,  63,  64,  65,  66,  67,  68,  69,  70,  71,\n",
       "         73,  74,  75,  76,  78,  79,  80,  81,  82,  83,  84,  85,  86,\n",
       "         87,  88,  89,  90,  91,  92,  93,  94,  95,  96,  97,  98,  99,\n",
       "        100, 101, 102, 103, 104, 105, 106, 108, 109, 110, 111, 112, 113,\n",
       "        114, 115, 116, 117, 118, 119, 120, 121, 122, 125, 126, 127, 128,\n",
       "        129, 130, 131, 132, 133, 134, 135, 136, 137, 139, 140, 141, 142,\n",
       "        143, 144, 145, 146, 147, 148, 149, 150, 151, 152, 153, 154, 155,\n",
       "        156, 157, 158, 159, 160, 161, 162, 163, 164, 165, 166, 167, 168,\n",
       "        169, 170, 171, 172, 173, 174, 175, 176, 177, 178, 179, 180, 181,\n",
       "        182, 183, 184, 185, 186, 187, 188, 189, 190, 191, 192, 193, 194,\n",
       "        195, 196, 197, 198, 199, 200, 201, 202, 203, 204, 205, 206, 207,\n",
       "        208, 209, 210, 211, 212, 213, 214, 215, 216, 217, 218, 219, 220,\n",
       "        221, 222, 223, 224, 225, 226, 227, 228, 229, 230, 231, 232, 233,\n",
       "        234, 236, 237, 238, 239, 240, 241, 242, 243, 244, 245, 246, 247,\n",
       "        248, 249, 250, 251, 252, 253, 254, 255, 256, 257, 258, 259, 260,\n",
       "        261, 262, 263, 264, 265, 266, 267, 268, 269, 270, 271, 272, 273,\n",
       "        274, 275, 276, 277, 278, 279, 280, 281, 282, 283, 284, 285, 286,\n",
       "        287, 288, 289, 290, 291, 292, 293, 294, 295, 296, 297, 298, 299,\n",
       "        300, 301, 302, 303, 304, 305, 306, 307, 308, 309, 310, 311, 312,\n",
       "        313, 314, 315, 316, 317, 318, 319, 320, 321, 322, 323, 324, 325,\n",
       "        326, 327, 328, 329, 330, 331, 332, 333, 334, 335, 336, 337, 338,\n",
       "        339, 340, 341, 342, 343, 344, 345, 346, 347, 348, 349, 350, 351,\n",
       "        352, 353, 354, 355, 356, 357, 358, 359, 360, 362, 363, 364, 365,\n",
       "        366, 367, 368, 369, 370, 371, 372, 373, 374, 375, 376, 377, 378,\n",
       "        379, 380, 381, 382, 383, 384, 385, 386, 387, 388, 389, 390, 391,\n",
       "        392, 393, 394, 395, 396, 397, 398, 399, 400, 401, 402, 403, 404,\n",
       "        405, 406, 407, 408, 409, 410, 411, 412, 413, 414, 415, 416, 417,\n",
       "        418, 419, 420, 421, 422, 423, 424, 425, 426, 427, 428, 429, 430,\n",
       "        431, 432, 433, 434, 435, 436, 437, 438, 439, 440, 441, 442, 443,\n",
       "        444, 445, 446, 447, 448, 449, 450, 451, 452, 453, 454, 455, 456,\n",
       "        457, 458, 459, 460, 461, 462, 463, 464, 465, 466, 467, 468, 469,\n",
       "        470, 471, 472, 473, 474, 475, 476, 477, 478, 479, 480, 481, 482,\n",
       "        483, 484, 485, 486, 487, 488, 489, 490, 491, 492, 493, 494, 495,\n",
       "        496, 497, 498, 499], dtype=int64),)"
      ]
     },
     "execution_count": 39,
     "metadata": {},
     "output_type": "execute_result"
    }
   ],
   "source": [
    "#找属于第类的的文本索引（即label2的下标）\n",
    "belong_0 = np.where(label2 == 0)\n",
    "belong_0"
   ]
  },
  {
   "cell_type": "code",
   "execution_count": null,
   "metadata": {},
   "outputs": [],
   "source": []
  },
  {
   "cell_type": "code",
   "execution_count": 40,
   "metadata": {
    "scrolled": true
   },
   "outputs": [
    {
     "data": {
      "text/plain": [
       "array([  3.41099372e-05,   1.70416309e-03,  -1.10531315e-02, ...,\n",
       "        -4.47661481e-02,  -4.47661481e-02,  -4.47661481e-02])"
      ]
     },
     "execution_count": 40,
     "metadata": {},
     "output_type": "execute_result"
    }
   ],
   "source": [
    "center[0]"
   ]
  },
  {
   "cell_type": "code",
   "execution_count": 41,
   "metadata": {},
   "outputs": [
    {
     "data": {
      "text/plain": [
       "array([-0.08725465, -0.11853788, -0.05542822, ..., -0.04476615,\n",
       "       -0.04476615, -0.04476615])"
      ]
     },
     "execution_count": 41,
     "metadata": {},
     "output_type": "execute_result"
    }
   ],
   "source": [
    "scaled_df[0]"
   ]
  },
  {
   "cell_type": "code",
   "execution_count": 42,
   "metadata": {},
   "outputs": [
    {
     "data": {
      "text/plain": [
       "[163.02214024781449,\n",
       " 180.10121637758976,\n",
       " 121.58301904151733,\n",
       " 138.17192195003963,\n",
       " 166.29739090050484,\n",
       " 264.46595871835245,\n",
       " 145.44085473400844,\n",
       " 444.67495044121534,\n",
       " 215.80767290648444,\n",
       " 257.80012265814622,\n",
       " 204.71748296814621,\n",
       " 203.41924587559626,\n",
       " 78.990662552933941,\n",
       " 210.04693127421902,\n",
       " 197.42618030552362,\n",
       " 395.45248354536625,\n",
       " 757.09770502039964,\n",
       " 249.72923382283898,\n",
       " 168.12852614593075,\n",
       " 118.09270571809007,\n",
       " 322.24427953989419,\n",
       " 360.45245107050039,\n",
       " 303.64023817219862,\n",
       " 182.8793206401597,\n",
       " 163.68504057235481,\n",
       " 178.00414625970186,\n",
       " 260.81983653016539,\n",
       " 150.39476864972502,\n",
       " 149.63277840515099,\n",
       " 265.29793611308662,\n",
       " 132.56254788747094,\n",
       " 155.87288379610962,\n",
       " 93.062659089639865,\n",
       " 57.849528724007648,\n",
       " 150.47434615011628,\n",
       " 231.06674735869348,\n",
       " 226.88168315290304,\n",
       " 129.98221192526054,\n",
       " 278.16240145924667,\n",
       " 59.281960172259581,\n",
       " 163.94350258333361,\n",
       " 112.00533398832873,\n",
       " 328.29761685364417,\n",
       " 83.534141352854334,\n",
       " 103.57713188683519,\n",
       " 224.06494488247992,\n",
       " 141.26466774605328,\n",
       " 133.32976643069932,\n",
       " 183.10889292660693,\n",
       " 223.17509120968194,\n",
       " 118.86477737755469,\n",
       " 396.02099344038038,\n",
       " 115.73187692083468,\n",
       " 258.11455031472946,\n",
       " 257.11938926077386,\n",
       " 249.11367656305936,\n",
       " 157.56031911492437,\n",
       " 8404.3551633683637,\n",
       " 115.64772364045901,\n",
       " 106.95453618136922,\n",
       " 106.95453618136922,\n",
       " 167.43341952252419,\n",
       " 168.64206733514195,\n",
       " 233.89587941641409,\n",
       " 216.96173105565055,\n",
       " 150.39525646814204,\n",
       " 271.43906140175824,\n",
       " 227.02816539954517,\n",
       " 136.97605533136701,\n",
       " 111.94653474497761,\n",
       " 184.35870069450311,\n",
       " 26.207748639887683,\n",
       " 301.20751108981824,\n",
       " 192.57755328391005,\n",
       " 163.21098356061586,\n",
       " 114.093888641788,\n",
       " 328.68256521039206,\n",
       " 282.95797035514124,\n",
       " 317.56785943063755,\n",
       " 130.59851597669618,\n",
       " 90.976892005373486,\n",
       " 187.84100027812477,\n",
       " 203.59373894916669,\n",
       " 245.35112476824821,\n",
       " 68.941685415237302,\n",
       " 187.84100027812477,\n",
       " 203.59373894916669,\n",
       " 245.35112476824821,\n",
       " 68.941685415237302,\n",
       " 85.379849595380563,\n",
       " 287.7183207946303,\n",
       " 147.63288411026514,\n",
       " 168.74536466598985,\n",
       " 243.7580782701919,\n",
       " 205.64486089919694,\n",
       " 212.84853818964703,\n",
       " 123.85808641186736,\n",
       " 131.45372864619242,\n",
       " 44.497845668195936,\n",
       " 154.31018818374744,\n",
       " 557.28276337486045,\n",
       " 128.68744395866409,\n",
       " 12.227068636755469,\n",
       " 124.43631962989902,\n",
       " 110.6201047132999,\n",
       " 249.96603014830166,\n",
       " 263.95563143041107,\n",
       " 377.17711113404431,\n",
       " 289.89974759634015,\n",
       " 170.25693717065226,\n",
       " 144.30609918166775,\n",
       " 244.58005037589322,\n",
       " 74.259949861555242,\n",
       " 116.44761336532801,\n",
       " 61.452250824081027,\n",
       " 132.91368222104794,\n",
       " 115.36064298642748,\n",
       " 220.73340332500311,\n",
       " 117.57110345886197,\n",
       " 94.492649359679447,\n",
       " 138.22373056699453,\n",
       " 71.087693434133456,\n",
       " 192.21505409284401,\n",
       " 240.25013558724604,\n",
       " 310.11037527085699,\n",
       " 243.82429166726698,\n",
       " 175.84723382075572,\n",
       " 157.30950178390756,\n",
       " 84.92493097381292,\n",
       " 213.04501456823169,\n",
       " 78.095526492190203,\n",
       " 26.207748639887683,\n",
       " 99.6310878648856,\n",
       " 143.42057853184056,\n",
       " 71.273953669964484,\n",
       " 182.13275233158356,\n",
       " 265.07003956634526,\n",
       " 93.783848616494879,\n",
       " 306.66651678618371,\n",
       " 119.05596292471425,\n",
       " 101.89132114398429,\n",
       " 169.76636918425064,\n",
       " 204.42430283049083,\n",
       " 117.73027543045373,\n",
       " 131.92459162912812,\n",
       " 86.995294142854405,\n",
       " 12.227068636755469,\n",
       " 196.33074902163821,\n",
       " 183.95737977342645,\n",
       " 338.91294432210935,\n",
       " 92.621094156164631,\n",
       " 200.5408741119256,\n",
       " 93.158702366233783,\n",
       " 229.04528880371745,\n",
       " 204.63129407666608,\n",
       " 375.85007124457292,\n",
       " 356.89123201526877,\n",
       " 95.981579856820588,\n",
       " 167.82036296427688,\n",
       " 181.75037057753869,\n",
       " 109.09445574534543,\n",
       " 115.84342371426031,\n",
       " 91.465416050630083,\n",
       " 271.1842662265671,\n",
       " 247.9783713266084,\n",
       " 26.207748639887683,\n",
       " 153.41494896422483,\n",
       " 31.18874736572419,\n",
       " 31.18874736572419,\n",
       " 99.494694361808783,\n",
       " 107.873116547525,\n",
       " 144.46501379645358,\n",
       " 133.54448135431463,\n",
       " 127.48666418957956,\n",
       " 176.94445143095169,\n",
       " 147.21486223174264,\n",
       " 67.044309164945744,\n",
       " 95.619134585352413,\n",
       " 51.513127282437708,\n",
       " 196.99283540965831,\n",
       " 140.89248531098181,\n",
       " 192.02309810649984,\n",
       " 138.66322851133805,\n",
       " 131.49338584254721,\n",
       " 226.50247226254621,\n",
       " 134.16426035090521,\n",
       " 125.54225504455114,\n",
       " 137.48578788573153,\n",
       " 187.73330281743998,\n",
       " 108.38876985031376,\n",
       " 209.87585813472052,\n",
       " 110.01052462907813,\n",
       " 220.61385348583849,\n",
       " 107.75241874297795,\n",
       " 82.083302596222296,\n",
       " 141.41217191144884,\n",
       " 80.096097242335375,\n",
       " 104.46197017236636,\n",
       " 108.10284040264395,\n",
       " 294.95386440862404,\n",
       " 224.88851942807233,\n",
       " 124.45033880980559,\n",
       " 77.347072814922257,\n",
       " 205.87749894349969,\n",
       " 225.8292929029131,\n",
       " 101.65249741601995,\n",
       " 234.60321699735138,\n",
       " 175.68834982335432,\n",
       " 259.04536172454374,\n",
       " 70.473546279680562,\n",
       " 135.21894518632863,\n",
       " 104.72787535415021,\n",
       " 240.42073824863485,\n",
       " 95.752710909362648,\n",
       " 123.69419602195707,\n",
       " 139.12075950537354,\n",
       " 239.13666708897995,\n",
       " 101.56196548372228,\n",
       " 149.00321464583746,\n",
       " 229.61166660693317,\n",
       " 129.14254560280568,\n",
       " 121.68449818988583,\n",
       " 30.705802377023954,\n",
       " 27.569195410457638,\n",
       " 232.46991003005749,\n",
       " 176.11086464656191,\n",
       " 93.969690213170651,\n",
       " 271.53723383435226,\n",
       " 189.51367240891389,\n",
       " 189.24974925568048,\n",
       " 86.408100183427763,\n",
       " 225.61331487233005,\n",
       " 97.269146805717057,\n",
       " 75.944997632124284,\n",
       " 126.42334612047962,\n",
       " 342.74109554581628,\n",
       " 76.28168681524059,\n",
       " 24.295615792709668,\n",
       " 117.01048756407552,\n",
       " 99.181483380663337,\n",
       " 163.38160964183919,\n",
       " 70.428124981399407,\n",
       " 112.09543842738999,\n",
       " 75.106624979950254,\n",
       " 94.417210362211094,\n",
       " 75.35738141707759,\n",
       " 79.326708600966938,\n",
       " 89.415488994381079,\n",
       " 94.549431214236506,\n",
       " 67.960315086237202,\n",
       " 111.16949127600394,\n",
       " 91.597003210082406,\n",
       " 101.50184604017414,\n",
       " 65.013622466724755,\n",
       " 84.471430011698232,\n",
       " 76.04242567645133,\n",
       " 78.075453208519448,\n",
       " 81.560872583805889,\n",
       " 24.613696412715875,\n",
       " 58.844166167994103,\n",
       " 114.95952287834896,\n",
       " 76.618092121870689,\n",
       " 85.043041818629263,\n",
       " 58.901306763858436,\n",
       " 75.799825720491953,\n",
       " 93.74893027022199,\n",
       " 90.591009136817604,\n",
       " 69.265624691164064,\n",
       " 101.05450253929695,\n",
       " 70.965230089565864,\n",
       " 64.48489816616339,\n",
       " 70.393491814731718,\n",
       " 59.485251904467788,\n",
       " 94.739060685042901,\n",
       " 61.883640158933389,\n",
       " 63.816777797368658,\n",
       " 57.990271393231005,\n",
       " 72.540148082420998,\n",
       " 109.63775752960855,\n",
       " 23.784997415509729,\n",
       " 102.95897104515828,\n",
       " 84.525897945117549,\n",
       " 71.059080364373287,\n",
       " 84.489788777997504,\n",
       " 64.168942056653876,\n",
       " 80.087326084693103,\n",
       " 130.04657649644741,\n",
       " 89.846164799702038,\n",
       " 63.682373177599267,\n",
       " 82.109379664300533,\n",
       " 44.942482549376663,\n",
       " 71.381754746439938,\n",
       " 76.514524629259029,\n",
       " 49.96525803012738,\n",
       " 50.372299400953729,\n",
       " 56.754152973497163,\n",
       " 65.04758157424925,\n",
       " 12.227068636755469,\n",
       " 109.73439901723496,\n",
       " 27.658241517250044,\n",
       " 82.39325367069965,\n",
       " 73.80751615540926,\n",
       " 67.667884184058366,\n",
       " 85.170846769845298,\n",
       " 71.728077979360947,\n",
       " 84.967988728692333,\n",
       " 87.139316050431077,\n",
       " 84.930590413918452,\n",
       " 82.130639618013518,\n",
       " 109.34276653006765,\n",
       " 88.322447209808544,\n",
       " 81.876119646830318,\n",
       " 99.003315165311122,\n",
       " 79.701988877946846,\n",
       " 63.988718753979093,\n",
       " 84.09189839301466,\n",
       " 84.025876655140635,\n",
       " 114.33219696721923,\n",
       " 84.614769590817048,\n",
       " 79.859907935826442,\n",
       " 29.553607571028603,\n",
       " 118.51521854924685,\n",
       " 107.02631900057311,\n",
       " 98.755137553216429,\n",
       " 66.57113967307393,\n",
       " 108.34805669404795,\n",
       " 79.559353303412948,\n",
       " 121.94382385086267,\n",
       " 53.303778558448755,\n",
       " 84.379354731154805,\n",
       " 85.54129822422658,\n",
       " 72.829924537411529,\n",
       " 78.307603109529893,\n",
       " 56.357792530946291,\n",
       " 93.416555529407333,\n",
       " 94.449838446164534,\n",
       " 70.683312766902645,\n",
       " 76.607111293732345,\n",
       " 57.84754920791876,\n",
       " 71.355038519839454,\n",
       " 226.94352512509803,\n",
       " 33.667685389659773,\n",
       " 183.62243477953214,\n",
       " 180.26328063714055,\n",
       " 63.707749388642476,\n",
       " 158.83356630179705,\n",
       " 182.5294689612559,\n",
       " 160.36982136536702,\n",
       " 97.142203304217816,\n",
       " 104.23163975340606,\n",
       " 147.82152131238092,\n",
       " 69.535429528190846,\n",
       " 98.140264300087992,\n",
       " 72.16256785542511,\n",
       " 119.48512918627196,\n",
       " 124.10037324973887,\n",
       " 174.62849635902876,\n",
       " 100.79251642986577,\n",
       " 103.25577003760226,\n",
       " 71.507310380476184,\n",
       " 92.261143530676136,\n",
       " 256.41620149100567,\n",
       " 23.150204280062226,\n",
       " 106.00015928357358,\n",
       " 173.05564561132394,\n",
       " 69.995376617597032,\n",
       " 100.44795430970896,\n",
       " 108.62773164807916,\n",
       " 87.610786177152221,\n",
       " 76.635072401814867,\n",
       " 120.017489301821,\n",
       " 125.11623797441078,\n",
       " 93.982605183082384,\n",
       " 183.04933420365177,\n",
       " 122.67433193399495,\n",
       " 90.776313571689769,\n",
       " 80.975206633227032,\n",
       " 92.681598092280481,\n",
       " 176.03177223491974,\n",
       " 107.60078854883548,\n",
       " 141.9570688413975,\n",
       " 66.535928215479842,\n",
       " 89.366100202398471,\n",
       " 37.567282388721161,\n",
       " 66.004818656933921,\n",
       " 61.353330436568633,\n",
       " 60.155772894765633,\n",
       " 12.227068636755469,\n",
       " 125.06203532767621,\n",
       " 29.285620863653783,\n",
       " 132.48448965144075,\n",
       " 104.5333289108293,\n",
       " 155.43008208264246,\n",
       " 105.06102941394019,\n",
       " 183.26677293219538,\n",
       " 101.0127020858806,\n",
       " 85.266632532833654,\n",
       " 78.43063869727527,\n",
       " 129.13432155739957,\n",
       " 96.398413387849217,\n",
       " 109.30036447138117,\n",
       " 118.37209505438238,\n",
       " 117.03929880696279,\n",
       " 57.414426626625982,\n",
       " 109.0545302138498,\n",
       " 81.267742324543789,\n",
       " 68.792715631586063,\n",
       " 96.82778599948378,\n",
       " 116.61850504816867,\n",
       " 91.704964391845678,\n",
       " 26.605723411893166,\n",
       " 77.648879354219588,\n",
       " 119.9313936609698,\n",
       " 88.560820572586152,\n",
       " 80.059985010044116,\n",
       " 86.449548494394136,\n",
       " 68.01203381553006,\n",
       " 71.169071303180175,\n",
       " 85.50488501991741,\n",
       " 76.567480885949493,\n",
       " 103.54579503083545,\n",
       " 81.405823762654691,\n",
       " 71.434473346969838,\n",
       " 71.60976437299432,\n",
       " 60.777405323459284,\n",
       " 62.356306798091204,\n",
       " 51.182458147685963,\n",
       " 12.227068636755469,\n",
       " 83.897479242563179,\n",
       " 37.837352178998358,\n",
       " 90.778178642402395,\n",
       " 84.70934754878779,\n",
       " 71.320507451264376,\n",
       " 60.888656164386887,\n",
       " 73.501173793782939,\n",
       " 56.937074896126468,\n",
       " 64.069118540916065,\n",
       " 12.227068636755469,\n",
       " 104.83956780331218,\n",
       " 24.621248549482132,\n",
       " 77.670220022543901,\n",
       " 85.83224635564109,\n",
       " 72.814073305743335,\n",
       " 62.878017457273963,\n",
       " 75.444337558113858,\n",
       " 69.823746533064124,\n",
       " 77.26102021386076,\n",
       " 99.930358097366749,\n",
       " 56.248738152557166,\n",
       " 58.570039023497749,\n",
       " 58.853812254996534,\n",
       " 72.246984934902969,\n",
       " 68.070097626103163,\n",
       " 12.227068636755469,\n",
       " 81.316727161563009,\n",
       " 24.613696412715875,\n",
       " 58.844166167994103,\n",
       " 114.6056214884787,\n",
       " 76.618092121870689,\n",
       " 84.237406044808239,\n",
       " 58.901306763858436,\n",
       " 77.589022854106602,\n",
       " 93.74893027022199,\n",
       " 90.200584099458098,\n",
       " 69.265624691164064,\n",
       " 100.77413764855613,\n",
       " 70.965230089565864,\n",
       " 64.578272179462502,\n",
       " 70.393491814731718,\n",
       " 60.39065221994165,\n",
       " 94.739060685042901,\n",
       " 61.599836967430889,\n",
       " 63.816777797368658,\n",
       " 58.917501722503481,\n",
       " 72.540148082420998,\n",
       " 102.95897104515828,\n",
       " 23.784997415509729,\n",
       " 109.63775752960855,\n",
       " 84.525897945117549,\n",
       " 71.059080364373287,\n",
       " 84.489788777997504,\n",
       " 64.168942056653876,\n",
       " 80.087326084693103,\n",
       " 130.04657649644741,\n",
       " 89.846164799702038,\n",
       " 63.682373177599267,\n",
       " 82.109379664300533,\n",
       " 44.942482549376663,\n",
       " 71.381754746439938,\n",
       " 76.514524629259029,\n",
       " 49.96525803012738,\n",
       " 50.372299400953729,\n",
       " 56.754152973497163,\n",
       " 65.04758157424925,\n",
       " 12.227068636755469,\n",
       " 109.73439901723496,\n",
       " 27.658241517250044,\n",
       " 82.39325367069965,\n",
       " 73.80751615540926,\n",
       " 67.667884184058366]"
      ]
     },
     "execution_count": 42,
     "metadata": {},
     "output_type": "execute_result"
    }
   ],
   "source": [
    "Dis = []\n",
    "for ind in range(0,500):#belong_0[0]:\n",
    "    op = np.sqrt(np.sum(np.square(center[0]-scaled_df[ind])))#第0类中所有点距离中心点的距离\n",
    "    Dis.append(op)\n",
    "Dis"
   ]
  },
  {
   "cell_type": "code",
   "execution_count": 14,
   "metadata": {},
   "outputs": [
    {
     "data": {
      "text/plain": [
       "500"
      ]
     },
     "execution_count": 14,
     "metadata": {},
     "output_type": "execute_result"
    }
   ],
   "source": [
    "len(Dis)"
   ]
  },
  {
   "cell_type": "code",
   "execution_count": 15,
   "metadata": {},
   "outputs": [
    {
     "data": {
      "text/plain": [
       "array([  163.01135043,   180.09558476,   121.58541341,   138.16594511,\n",
       "         166.28757154,   264.46606269,   145.44072395,   444.66864916,\n",
       "         215.80647358,   257.79890576,   204.7139837 ,   203.40060626,\n",
       "          78.98041582,   210.03768142,   197.41963649,   395.45937779,\n",
       "         757.10405126,   249.72252541,   168.12627685,   118.08827149,\n",
       "         322.23813907,   359.70475022,   303.63948587,   182.8746973 ,\n",
       "         163.68390981,   177.97716689,   260.81665524,   150.38358045,\n",
       "         149.62733947,   265.28949482,   132.5274331 ,   155.86445453,\n",
       "          93.05020095,    57.83004316,   150.44025323,   230.58742473,\n",
       "         226.88709479,   129.98311594,   278.71967279,    59.2746645 ,\n",
       "         163.9298168 ,   111.99292808,   328.29683646,    83.53365439,\n",
       "         103.5733462 ,   224.06737731,   141.25315663,   133.32296065,\n",
       "         183.10623395,   223.17235184,   118.84861442,   396.82905904,\n",
       "         115.73014922,   258.09357865,   257.10977732,   249.11011629,\n",
       "         157.56033216,  8404.3560195 ,   115.63650462,   106.95286998,\n",
       "         106.95286998,   167.42082157,   168.61985903,   233.87380519,\n",
       "         216.95587113,   150.39849673,   271.44279911,   227.02650876,\n",
       "         136.9755241 ,   111.93646644,   184.34612371,    26.19214993,\n",
       "         300.60530656,   192.57656596,   163.21333756,   114.08805797,\n",
       "         328.67669973,   282.36295951,   317.57361002,   130.59321977,\n",
       "          90.9591519 ,   187.83980234,   203.60689215,   245.37128592,\n",
       "          68.92771615,   187.83980234,   203.60689215,   245.37128592,\n",
       "          68.92771615,    85.37375705,   287.7244624 ,   147.6240612 ,\n",
       "         168.74190782,   243.75042234,   205.64559579,   212.84474294,\n",
       "         123.85367733,   131.45056284,    44.48744871,   154.31094442,\n",
       "         558.43386288,   128.6739294 ,    12.18871267,   124.4304488 ,\n",
       "         110.61509595,   249.97445494,   263.97271984,   377.19357803,\n",
       "         290.5015522 ,   170.23707741,   144.29790675,   244.58336206,\n",
       "          74.25463099,   116.44158505,    61.44312024,   132.90852779,\n",
       "         115.35372967,   220.72709301,   117.56142399,    94.49470175,\n",
       "         138.16220306,    71.08456826,   192.20557813,   239.72359342,\n",
       "         309.45915801,   243.83078629,   175.83982039,   157.30348152,\n",
       "          84.92199548,   213.04572861,    78.07908028,    26.19214993,\n",
       "          99.62519084,   143.41859495,    71.27120484,   182.13707278,\n",
       "         265.06932832,    93.77339918,   306.68495114,   119.05154572,\n",
       "         101.88629897,   169.76466399,   204.3889467 ,   117.73332988,\n",
       "         131.93857602,    86.99203389,    12.18871267,   196.33030417,\n",
       "         183.95687451,   339.61153198,    92.61460005,   200.53749399,\n",
       "          93.15482346,   229.03225185,   204.63505163,   375.84510824,\n",
       "         357.62991395,    95.97514459,   167.81996043,   181.74373804,\n",
       "         109.09080321,   115.83216575,    91.47017831,   271.18937836,\n",
       "         247.96853147,    26.19214993,   153.40993548,    31.17155166,\n",
       "          31.17155166,    99.4907684 ,   107.86256296,   144.45867173,\n",
       "         133.56345253,   127.48533874,   176.9426312 ,   147.20559807,\n",
       "          67.04509824,    95.60999499,    51.51113717,   196.99415167,\n",
       "         140.87932181,   192.01733221,   138.65363981,   131.48393428,\n",
       "         226.50598608,   134.1621737 ,   125.54281657,   137.4813777 ,\n",
       "         187.72834531,   108.39291823,   209.87360208,   110.00835122,\n",
       "         220.60435577,   107.741357  ,    82.07809002,   141.40963346,\n",
       "          80.09740398,   104.45458948,   108.08560314,   294.93957534,\n",
       "         224.87525194,   124.45545232,    77.3461573 ,   205.87498563,\n",
       "         225.8252798 ,   101.64367965,   234.6048323 ,   175.68650371,\n",
       "         259.03673094,    70.46996812,   135.21049773,   104.72560155,\n",
       "         240.41418347,    95.73596094,   123.6945885 ,   139.11240299,\n",
       "         239.10831393,   101.54881413,   149.00361049,   229.60767515,\n",
       "         129.14000465,   121.6758763 ,    30.69220394,    27.55354805,\n",
       "         232.47925446,   176.08983584,    93.96316891,   271.53750845,\n",
       "         189.51126254,   189.23422596,    86.403891  ,   225.61348063,\n",
       "          97.25674702,    75.93841284,   126.42356489,   342.73216966,\n",
       "          76.26041393,    24.28377113,   116.99058448,    99.16781278,\n",
       "         163.37512854,    70.42876048,   112.09128984,    75.09166465,\n",
       "          94.40602037,    75.35206377,    79.31581329,    89.40531545,\n",
       "          94.5376143 ,    67.95593838,   111.16359612,    91.59364506,\n",
       "         101.50156418,    65.00705549,    84.46135382,    76.02049291,\n",
       "          78.06923594,    81.54639831,    24.5942087 ,    58.84193134,\n",
       "         114.93932259,    76.60738535,    85.03940839,    58.88460949,\n",
       "          75.77870308,    93.73168423,    90.5755922 ,    69.2560752 ,\n",
       "         101.04193227,    70.96275342,    64.47657083,    70.38078086,\n",
       "          59.46951778,    94.72263412,    61.87890979,    63.8044386 ,\n",
       "          57.98586932,    72.53261995,   109.62724812,    23.76304146,\n",
       "         102.94923002,    84.51196618,    71.04428645,    84.4671718 ,\n",
       "          64.15936691,    80.08715064,   130.03506986,    89.82700735,\n",
       "          63.67995495,    82.09056233,    44.93269173,    71.3758797 ,\n",
       "          76.50030668,    49.95941476,    50.36717258,    56.7483298 ,\n",
       "          65.0377093 ,    12.18871267,   110.17396849,    27.6676619 ,\n",
       "          82.39907731,    73.81090649,    67.66917355,    85.17187497,\n",
       "          71.7295065 ,    84.97748415,    87.17617626,    84.93824831,\n",
       "          82.12493312,   109.33345842,    88.31518687,    81.87478023,\n",
       "          99.00741387,    79.71575871,    63.99107619,    84.09227177,\n",
       "          84.03933684,   114.33233823,    84.61911932,    79.85534903,\n",
       "          29.54014007,   118.50636318,   107.02282726,    98.74809509,\n",
       "          66.56463135,   108.34850318,    79.54671282,   121.93765296,\n",
       "          53.29169448,    84.36795952,    85.53342812,    72.82770159,\n",
       "          78.30187741,    56.35296684,    93.42023741,    94.45610701,\n",
       "          70.67445125,    76.5972938 ,    57.84123715,    71.346952  ,\n",
       "         226.9270157 ,    33.65947935,   183.61729581,   180.25301836,\n",
       "          63.70264184,   158.81542224,   182.52350486,   160.36278339,\n",
       "          97.13262874,   104.22774914,   147.80768001,    69.52173944,\n",
       "          98.12670043,    72.15815193,   119.47146177,   124.0879846 ,\n",
       "         174.61526665,   100.78838281,   103.24475253,    71.50358469,\n",
       "          92.25354999,   255.88676539,    23.13276488,   105.98918058,\n",
       "         173.03470466,    69.98322456,   100.43024834,   108.62012007,\n",
       "          87.60361504,    76.61566094,   119.99852655,   125.11158291,\n",
       "          93.96576995,   183.03379837,   122.66342608,    90.76925732,\n",
       "          80.96283561,    92.6785718 ,   176.03179654,   107.58467061,\n",
       "         141.95881022,    66.52094485,    89.36413057,    37.55543461,\n",
       "          65.99302743,    61.34520851,    60.14683289,    12.18871267,\n",
       "         125.05861372,    29.27219313,   132.4681258 ,   104.53107208,\n",
       "         155.41462409,   105.04695727,   183.25858303,   101.00066335,\n",
       "          85.25394476,    78.42659889,   129.12126076,    96.41904405,\n",
       "         109.29041658,   118.36453068,   117.04136359,    57.4053564 ,\n",
       "         109.0524643 ,    81.25800156,    68.7763725 ,    96.820468  ,\n",
       "         116.61072479,    91.69557886,    26.59313811,    77.63979121,\n",
       "         119.92237919,    88.54981341,    80.05516794,    86.44172815,\n",
       "          68.00534337,    71.16190559,    85.49780494,    76.55455004,\n",
       "         103.54523393,    81.4032044 ,    71.43880513,    71.60164651,\n",
       "          60.77716382,    62.3551071 ,    51.17347605,    12.18871267,\n",
       "          83.87656695,    37.82905575,    90.77369273,    84.69969704,\n",
       "          71.31577084,    60.88228844,    73.50188085,    56.93035111,\n",
       "          64.06030451,    12.18871267,   104.82033908,    24.60400291,\n",
       "          77.65826271,    85.82605713,    72.79647844,    62.86770032,\n",
       "          75.44143433,    69.81379741,    77.25488556,    99.9233087 ,\n",
       "          56.23819238,    58.55798015,    58.84904879,    72.23887782,\n",
       "          68.05732665,    12.18871267,    81.30199031,    24.5942087 ,\n",
       "          58.84193134,   114.58530678,    76.60738535,    84.2333126 ,\n",
       "          58.88460949,    77.56816936,    93.73168423,    90.18490356,\n",
       "          69.2560752 ,   100.76140751,    70.96275342,    64.56925937,\n",
       "          70.38078086,    60.37454804,    94.72263412,    61.59434908,\n",
       "          63.8044386 ,    58.91178563,    72.53261995,   102.94923002,\n",
       "          23.76304146,   109.62724812,    84.51196618,    71.04428645,\n",
       "          84.4671718 ,    64.15936691,    80.08715064,   130.03506986,\n",
       "          89.82700735,    63.67995495,    82.09056233,    44.93269173,\n",
       "          71.3758797 ,    76.50030668,    49.95941476,    50.36717258,\n",
       "          56.7483298 ,    65.0377093 ,    12.18871267,   110.17396849,\n",
       "          27.6676619 ,    82.39907731,    73.81090649,    67.66917355])"
      ]
     },
     "execution_count": 15,
     "metadata": {},
     "output_type": "execute_result"
    }
   ],
   "source": [
    "Dis_np = np.array(Dis)\n",
    "Dis_np"
   ]
  },
  {
   "cell_type": "code",
   "execution_count": 29,
   "metadata": {},
   "outputs": [
    {
     "data": {
      "text/plain": [
       "array([102, 387, 146, 494, 437], dtype=int64)"
      ]
     },
     "execution_count": 29,
     "metadata": {},
     "output_type": "execute_result"
    }
   ],
   "source": [
    " Dis_np.argsort()[:5][::-1]#顺序自始至终没有变过，返回前五个数即距离最小的文本的索引"
   ]
  },
  {
   "cell_type": "code",
   "execution_count": 33,
   "metadata": {
    "scrolled": true
   },
   "outputs": [
    {
     "name": "stdout",
     "output_type": "stream",
     "text": [
      "Input file number: 102\n",
      "Input file number: 387\n",
      "Input file number: 146\n",
      "Input file number: 494\n",
      "Input file number: 437\n",
      "\n",
      "\n",
      "./doc/News_102_E.txt\n",
      " sergey levin assist professor uc berkeley eec address 754 sutardja dai hall uc berkeley berkeley ca 94720 1758 email prospect student pleas read contact thank interest lab howev ask contact directli regard undergradu ms phd admiss abl repli new student join lab everi year encourag submit applic uc berkeley eec phd program applic review thoroughli need contact directli alreadi student uc berkeley encourag get touch uc berkeley undergradu student interest particip research pleas also includ transcript cv assist professor depart electr engin comput scienc uc berkeley research focu intersect control machin learn aim develop algorithm techniqu endow machin abil autonom acquir skill execut complex task particular interest learn use acquir complex behavior skill order endow machin greater autonomi intellig see formal biographi click biographi sergey levin receiv bs ms comput scienc stanford univers 2009 ph comput scienc stanford univers 2014 join faculti depart electr engin comput scienc uc berkeley fall 2016 work focus machin learn decis make control emphasi deep learn reinforc learn algorithm applic work includ autonom robot vehicl well comput vision graphic research includ develop algorithm end end train deep neural network polici combin percept control scalabl algorithm invers reinforc learn deep reinforc learn algorithm work featur mani popular press outlet includ new york time bbc mit technolog review bloomberg busi research group robot artifici intellig learn lab rail websit public lab member recent talk 2017 talk april 2017 cmu ri seminar seri summar work group older talk 2015 focus primarili guid polici search avail repres public recent paper provid overview research includ larg scale robot learn deep reinforc learn algorithm deep learn robot sensorimotor skill deep visual foresight plan robot motion chelsea finn sergey levin icra 2017 pdf video arxiv paper present method use video predict model plan execut robot manipul skill specif show nonprehensil push behavior gener automat use deep neural network video predict model train self supervis manner use larg dataset automat gener robot push control perform optim action model predict desir outcom specifi user command result show learn video predict model perform nontrivi reason physic interact allow basic push skill execut minim manual engin prior knowledg physic object deep reinforc learn robot manipul asynchron polici updat shixiang gu ethan holli timothi lillicrap sergey levin icra 2017 pdf video arxiv work explor deep reinforc learn method base normal advantag function naf use learn real world robot manipul skill multipl robot simultan pool experi result show obtain faster train case converg better solut train multipl robot show learn real world door open skill deep neural network polici use 2 5 hour total train time two robot learn hand eye coordin robot grasp deep learn larg scale data collect sergey levin peter pastor alex krizhevski julian ibarz deirdr quillen ijrr 2017 pdf ijrr video googl research blog data paper present approach learn grasp continu servo use larg scale data collect cluster 14 individu robot collect 800 000 grasp attempt use train larg convolut neural network predict grasp success given imag candid grasp vector construct continu servo mechan use network continu make decis optim motor command maxim probabl grasp success evalu approach grasp object seen train time compar open loop variant perform continu feedback control end end train deep visuomotor polici sergey levin chelsea finn trevor darrel pieter abbeel jmlr 17 2016 pdf video arxiv code paper present method train visuomotor polici perform vision control robot manipul task polici repres deep convolut neural network 92 000 paramet learn perform vision control togeth vision system adapt goal task essenti perform goal driven percept experiment result pr2 robot show method achiev substanti improv accuraci final polici 2009 2016 sergey levin  \n",
      "\n",
      "\n",
      "./doc/News_387_E.txt\n",
      " mack jganswer oct 20 2016if want page us first read pre written sampl sampl would tell add point point ad also take help onlin essay write profession best known find write colleg essay need research best essay write firm 134 view \n",
      "\n",
      "\n",
      "./doc/News_146_E.txt\n",
      " cristina conati professor comput scienc depart univers british columbia homepag research teach public contact cristina conati professor depart comput scienc univers british columbia goal integr research artifici intellig human comput interact cognit scienc creat intellig user interfac effect reliabl adapt need user particularli interest extend rang user state trait reliabl captur comput user model leverag adapt pure cognit featur knowledg skill goal affect state emot mood attitud meta cognit skill e g capabl effect explor larg inform space person trait 100 peer review public field intellig user interfac user model affect comput intellig tutor system intellig virtual agent research receiv award varieti venu includ umuai journal user model user adapt interact 2002 intern confer intellig user interfac iui 2007 intern confer user model adapt person umap 2013 2014 tii acm transact intellig interact system 2014 intern confer intellig virtual agent iva 2016 associ editor umuai tii ieee transact affect comput journal artifici intellig educ serv presid aaac associ advanc affect comput well program confer chair sever intern confer includ umap iui ai educ like join research group graduat student pleas appli news perk check new paper accept ijcai 2017 iui 2017 aie 2017 edm 2017 best paper award 2016 iva 2016 16th intern confer intellig virtual agent nserc discoveri grant acceler 2016 2019 best paper award 2014 acm transact intellig interact system tii best paper award umap 2014 runner best paper award 2014 runner best paper award iui 2014 best paper award umap 2013 killam research fellowship 2013 depart comput scienc ubc  \n",
      "\n",
      "\n",
      "./doc/News_494_E.txt\n",
      " andrew scharf head koianswer dec 22 2017 author 1 6k answer 398k answer viewsorigin answer write good colleg applic essay write great essay appli school becom harder ever school demand requir student realli think messag want share admiss committe institut wish compet never level play field applic intens competit top school serv make essay write exercis anxieti ridden advic hire coach see process take advantag expertis sell stori wish share make huge differ candidaci 136 view answer request john kurosaga \n",
      "\n",
      "\n",
      "./doc/News_437_E.txt\n",
      " zach kinnaman colleg studentansw aug 17 2013essay take lot time order write excel well thought colleg essay take lot time high school student alreadi deal school work sport social life would rather spend time fun thing instead sit organ colleg essay colleg may may get student option appli similar school requir essay probabl like appli school424 view \n"
     ]
    }
   ],
   "source": [
    "str1 = raw_input(\"Input file number: \")\n",
    "str2 = raw_input(\"Input file number: \")\n",
    "str3 = raw_input(\"Input file number: \")\n",
    "str4 = raw_input(\"Input file number: \")\n",
    "str5 = raw_input(\"Input file number: \")\n",
    "\n",
    "file1 = \"News_\"  + str1 + \"_E.txt\"\n",
    "file2 = \"News_\"  + str2 + \"_E.txt\"\n",
    "file3 = \"News_\"  + str3 + \"_E.txt\"\n",
    "file4 = \"News_\"  + str4 + \"_E.txt\"\n",
    "file5 = \"News_\"  + str5 + \"_E.txt\"\n",
    "\n",
    "filenames = ['./doc/' + file1, './doc/' + file2, './doc/' + file3, './doc/' + file4, './doc/' + file5]#relative filepath\n",
    "for i in range(0,5):\n",
    "    f1 = open(filenames[i], 'r').read()\n",
    "    print (\"\\n\")\n",
    "    print (filenames[i])\n",
    "    print f1"
   ]
  },
  {
   "cell_type": "code",
   "execution_count": 5,
   "metadata": {},
   "outputs": [],
   "source": [
    "import random\n",
    "def foo(n):\n",
    "    random.seed()\n",
    "    c1 = 0\n",
    "    c2 = 0\n",
    "    for i in range(n):\n",
    "        x = random.random()\n",
    "        y = random.random()\n",
    "        r1 = x * x + y * y\n",
    "        r2 = (1 - x) * (1 - x) + (1 - y) * (1 - y)\n",
    "        if r1 <= 1 and r2 <= 1:\n",
    "            c1 += 1\n",
    "        else:\n",
    "            c2 += 1\n",
    "    return c1 / c2"
   ]
  },
  {
   "cell_type": "code",
   "execution_count": 7,
   "metadata": {},
   "outputs": [
    {
     "data": {
      "text/plain": [
       "1"
      ]
     },
     "execution_count": 7,
     "metadata": {},
     "output_type": "execute_result"
    }
   ],
   "source": [
    "foo(10000000)"
   ]
  },
  {
   "cell_type": "code",
   "execution_count": 10,
   "metadata": {},
   "outputs": [
    {
     "data": {
      "text/plain": [
       "0.0"
      ]
     },
     "execution_count": 10,
     "metadata": {},
     "output_type": "execute_result"
    }
   ],
   "source": [
    "import math\n",
    "math.tan(53/180*math.pi)"
   ]
  },
  {
   "cell_type": "code",
   "execution_count": 11,
   "metadata": {},
   "outputs": [
    {
     "data": {
      "text/plain": [
       "1.3298961831627436"
      ]
     },
     "execution_count": 11,
     "metadata": {},
     "output_type": "execute_result"
    }
   ],
   "source": [
    "(math.pi-2)/(4-math.pi)"
   ]
  },
  {
   "cell_type": "code",
   "execution_count": 12,
   "metadata": {},
   "outputs": [
    {
     "data": {
      "text/plain": [
       "1.0"
      ]
     },
     "execution_count": 12,
     "metadata": {},
     "output_type": "execute_result"
    }
   ],
   "source": [
    "math.e**(6/21)"
   ]
  },
  {
   "cell_type": "code",
   "execution_count": 3,
   "metadata": {},
   "outputs": [
    {
     "data": {
      "text/plain": [
       "(array([[-0.3863177 , -0.92236578],\n",
       "        [-0.92236578,  0.3863177 ]]),\n",
       " array([ 9.508032  ,  0.77286964]),\n",
       " array([[-0.42866713, -0.56630692, -0.7039467 ],\n",
       "        [ 0.80596391,  0.11238241, -0.58119908],\n",
       "        [ 0.40824829, -0.81649658,  0.40824829]]))"
      ]
     },
     "execution_count": 3,
     "metadata": {},
     "output_type": "execute_result"
    }
   ],
   "source": [
    "import numpy as np\n",
    "np.set_printoptions(suppress=True)\n",
    "\n",
    "A = np.array([[1, 2, 3], [4, 5, 6]])#, [7, 8, 9], [10, 11, 12]])\n",
    "a = np.linalg.svd(A)\n",
    "a"
   ]
  },
  {
   "cell_type": "markdown",
   "metadata": {},
   "source": []
  },
  {
   "cell_type": "code",
   "execution_count": 121,
   "metadata": {},
   "outputs": [
    {
     "name": "stdout",
     "output_type": "stream",
     "text": [
      "Cosine Distance: \n",
      "0.848528137424\n",
      "Cosine Distance: \n",
      "0.912870929175\n",
      "Cosine Distance: \n",
      "0.903696114115\n"
     ]
    }
   ],
   "source": [
    "vectora = np.array([1, 2, 0, 2, 1])  \n",
    "vectorb = np.array([1,3,0,1,3])  \n",
    "vectorc = np.array([0,2,0,1,1])\n",
    "  \n",
    "op_ab = np.dot(vectora,vectorb)/(np.linalg.norm(vectora)*(np.linalg.norm(vectorb)))\n",
    "op_bc = np.dot(vectorb,vectorc)/(np.linalg.norm(vectorb)*(np.linalg.norm(vectorc)))\n",
    "op_ac = np.dot(vectora,vectorc)/(np.linalg.norm(vectora)*(np.linalg.norm(vectorc)))\n",
    "print(\"Cosine Distance: \")\n",
    "print(op_ab)\n",
    "print(\"Cosine Distance: \")\n",
    "print(op_bc)\n",
    "print(\"Cosine Distance: \")\n",
    "print(op_ac)"
   ]
  },
  {
   "cell_type": "code",
   "execution_count": 122,
   "metadata": {
    "scrolled": true
   },
   "outputs": [
    {
     "name": "stdout",
     "output_type": "stream",
     "text": [
      "input the string:.-.-....-.-...--.-...-....--...-.-...-.--.------..-...-..-.-.---...-..-..---..-..  ....--..-.--.-...-.--......-.........-..-.----.-.....-....--.-.-.--.-..---..-....  ..-...-..-.--.-.----......-.--.-----..-------.-.-..---.-.-.--..-.-...............  --...--....--..-....-.-----.....-...-------.-......-.........-..-..--.-....-...--  ....-.--.-.....--..-.....--..-.---.--...-.-.-..-.-.....---.-.-.-.----....-..-....  .--..----......-...-.--.-...--.....--.....-.......-....---..-..--...-------.--...  .---..---.....-.-.-....-.-...--..-....---..--.--...-.-.-..-.-.....---.-.-.-.----.  ...-..-.....--..----.\n"
     ]
    },
    {
     "ename": "KeyError",
     "evalue": "'.-.-....-.-...--.-...-....--...-.-...-.--.------..-...-..-.-.---...-..-..---..-..'",
     "output_type": "error",
     "traceback": [
      "\u001b[1;31m---------------------------------------------------------------------------\u001b[0m",
      "\u001b[1;31mKeyError\u001b[0m                                  Traceback (most recent call last)",
      "\u001b[1;32m<ipython-input-122-63e74dadfff7>\u001b[0m in \u001b[0;36m<module>\u001b[1;34m()\u001b[0m\n\u001b[0;32m     45\u001b[0m         };\n\u001b[0;32m     46\u001b[0m \u001b[1;32mfor\u001b[0m \u001b[0mitem\u001b[0m \u001b[1;32min\u001b[0m \u001b[0ms\u001b[0m\u001b[1;33m:\u001b[0m\u001b[1;33m\u001b[0m\u001b[0m\n\u001b[1;32m---> 47\u001b[1;33m     \u001b[1;32mprint\u001b[0m \u001b[1;33m(\u001b[0m\u001b[0mdict\u001b[0m\u001b[1;33m[\u001b[0m\u001b[0mitem\u001b[0m\u001b[1;33m]\u001b[0m\u001b[1;33m,\u001b[0m\u001b[0mend\u001b[0m\u001b[1;33m=\u001b[0m\u001b[1;34m''\u001b[0m\u001b[1;33m)\u001b[0m\u001b[1;33m\u001b[0m\u001b[0m\n\u001b[0m\u001b[0;32m     48\u001b[0m \u001b[1;31m#print (s)\u001b[0m\u001b[1;33m\u001b[0m\u001b[1;33m\u001b[0m\u001b[0m\n",
      "\u001b[1;31mKeyError\u001b[0m: '.-.-....-.-...--.-...-....--...-.-...-.--.------..-...-..-.-.---...-..-..---..-..'"
     ]
    }
   ],
   "source": [
    "from __future__ import print_function\n",
    "a = raw_input(\"input the string:\")\n",
    "s = a.split(\" \")\n",
    "dict = {'.-': 'A',\n",
    "        '-...': 'B',\n",
    "        '-.-.': 'C',\n",
    "        '-..':'D',\n",
    "        '.':'E',\n",
    "        '..-.':'F',\n",
    "        '--.': 'G',\n",
    "        '....': 'H',\n",
    "        '..': 'I',\n",
    "        '.---':'J',\n",
    "        '-.-': 'K',\n",
    "        '.-..': 'L',\n",
    "        '--': 'M',\n",
    "        '-.': 'N',\n",
    "        '---': 'O',\n",
    "        '.--.': 'P',\n",
    "        '--.-': 'Q',\n",
    "        '.-.': 'R',\n",
    "        '...': 'S',\n",
    "        '-': 'T',\n",
    "        '..-': 'U',\n",
    "        '...-': 'V',\n",
    "        '.--': 'W',\n",
    "        '-..-': 'X',\n",
    "        '-.--': 'Y',\n",
    "        '--..': 'Z',\n",
    "        '.----': '1',\n",
    "        '..---': '2',\n",
    "        '...--': '3',\n",
    "        '....-': '4',\n",
    "        '.....': '5',\n",
    "        '-....': '6',\n",
    "        '--...': '7',\n",
    "        '---..': '8',\n",
    "        '----.': '9',\n",
    "        '-----': '0',\n",
    "        '..--..': '?',\n",
    "        '-..-.': '/',\n",
    "        '-.--.-': '()',\n",
    "        '-....-': '-',\n",
    "        '.-.-.-': '.'\n",
    "        };\n",
    "for item in s:\n",
    "    print (dict[item],end='')\n",
    "#print (s)"
   ]
  },
  {
   "cell_type": "code",
   "execution_count": null,
   "metadata": {},
   "outputs": [],
   "source": [
    "import random\n",
    "\n",
    "alphabet = \" \".join(\"abcdefghijklmnopqrstuvwxyz\").split()\n",
    "\n",
    "values = ['.-', '-...', '-.-.', '-..', '.', '..-.', '--.',\n",
    "        '....', '..', '.---', '-.-', '.-..', '--', '-.',\n",
    "        '---', '.--.', '--.-', '.-.', '...', '-',\n",
    "        '..-', '...-', '.--', '-..-', '-.--', '--..']\n",
    "\n",
    "morse_dict = dict(zip(alphabet, values))\n",
    "def morse_encode(word):\n",
    "    return \"*\".join([dict_morse_encode[i] for i in \" \".join(word).split()])\n"
   ]
  },
  {
   "cell_type": "code",
   "execution_count": null,
   "metadata": {},
   "outputs": [],
   "source": [
    "word_len = 9\n",
    "max_len_x = 4*word_len+(word_len-1)\n",
    "max_len_y = len_word\n",
    "\n",
    "def data_gen(n):\n",
    "    with open('word_alpha.txt', 'r') as f:\n",
    "        all_words = f.read().lower().spilt('\\n')\n",
    "        words = [word for word in all_words if len(word) == n]\n",
    "        \n",
    "        random.shuffle(words)\n",
    "        g_out = lambda x: ' '*(max_len_y - len(x)) + x\n",
    "        output_list = [g_out(word) for word in words]\n",
    "        \n",
    "        g_in = lambda x: for morse_encode(x)+' '*(max_len_x - len(morse_encode(x)))\n",
    "        input_list = [g_in(word) for word in words]\n",
    "        \n",
    "        return output_list, input_list\n",
    "    \n",
    "    output_list, input_list = data_gen(9)"
   ]
  }
 ],
 "metadata": {
  "kernelspec": {
   "display_name": "Python 2",
   "language": "python",
   "name": "python2"
  },
  "language_info": {
   "codemirror_mode": {
    "name": "ipython",
    "version": 2
   },
   "file_extension": ".py",
   "mimetype": "text/x-python",
   "name": "python",
   "nbconvert_exporter": "python",
   "pygments_lexer": "ipython2",
   "version": "2.7.14"
  }
 },
 "nbformat": 4,
 "nbformat_minor": 2
}
